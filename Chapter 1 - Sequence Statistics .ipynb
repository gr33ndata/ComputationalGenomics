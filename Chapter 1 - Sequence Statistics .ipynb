{
 "cells": [
  {
   "cell_type": "markdown",
   "metadata": {},
   "source": [
    "# Chapter 1 - Sequence Statistics "
   ]
  },
  {
   "cell_type": "code",
   "execution_count": 1,
   "metadata": {},
   "outputs": [],
   "source": [
    "import os\n",
    "import sys \n",
    "\n",
    "import pandas as pd"
   ]
  },
  {
   "cell_type": "code",
   "execution_count": 83,
   "metadata": {},
   "outputs": [],
   "source": [
    "%matplotlib inline"
   ]
  },
  {
   "cell_type": "markdown",
   "metadata": {},
   "source": [
    "##  SARS-COV-2 Genome \n",
    "It is stored in a FASTA format, lines starting with `>` to be ignored"
   ]
  },
  {
   "cell_type": "code",
   "execution_count": 3,
   "metadata": {},
   "outputs": [],
   "source": [
    "cov2genomefile = f'{os.getcwd()}/fasta/SARS-COV-2-MT226610.1.txt'"
   ]
  },
  {
   "cell_type": "code",
   "execution_count": 8,
   "metadata": {},
   "outputs": [],
   "source": [
    "cov2genome = ''\n",
    "\n",
    "with open(cov2genomefile) as f:\n",
    "     for line in f.readlines():\n",
    "            if not line.startswith('>'):\n",
    "                cov2genome += line.strip()"
   ]
  },
  {
   "cell_type": "code",
   "execution_count": 11,
   "metadata": {},
   "outputs": [
    {
     "data": {
      "text/plain": [
       "'ATTAAAGGTTTATACCTTCCCAGGT'"
      ]
     },
     "execution_count": 11,
     "metadata": {},
     "output_type": "execute_result"
    }
   ],
   "source": [
    "cov2genome[:25]"
   ]
  },
  {
   "cell_type": "code",
   "execution_count": null,
   "metadata": {},
   "outputs": [],
   "source": []
  },
  {
   "cell_type": "code",
   "execution_count": 85,
   "metadata": {},
   "outputs": [
    {
     "name": "stdout",
     "output_type": "stream",
     "text": [
      "What is the length of the genome? 29,903\n"
     ]
    }
   ],
   "source": [
    "print(\n",
    "    'What is the length of the genome? {:,}'.format(\n",
    "        len(cov2genome)\n",
    "    )\n",
    ")"
   ]
  },
  {
   "cell_type": "code",
   "execution_count": 88,
   "metadata": {},
   "outputs": [
    {
     "name": "stdout",
     "output_type": "stream",
     "text": [
      "What is the vocabulary of the genome; i.e. the nucleotides? ['A', 'C', 'G', 'T']\n"
     ]
    }
   ],
   "source": [
    "nucleotides_vocabulary = list(set(cov2genome))\n",
    "\n",
    "print(\n",
    "    'What is the vocabulary of the genome; i.e. the nucleotides? {}'.format(\n",
    "        sorted(nucleotides_vocabulary)\n",
    "    )\n",
    ")"
   ]
  },
  {
   "cell_type": "markdown",
   "metadata": {},
   "source": [
    "## The Frequency of the nucleotides\n",
    "\n",
    "The Frequency of the nucleotides are like a fingerprint for each orgnism"
   ]
  },
  {
   "cell_type": "code",
   "execution_count": 23,
   "metadata": {},
   "outputs": [],
   "source": [
    "nucleotides_frequency = {}\n",
    "\n",
    "for nucleotide in cov2genome:\n",
    "    nucleotides_frequency[nucleotide] = nucleotides_frequency.get(nucleotide, 0) + 1"
   ]
  },
  {
   "cell_type": "code",
   "execution_count": 24,
   "metadata": {},
   "outputs": [
    {
     "data": {
      "text/plain": [
       "{'A': 8954, 'T': 9594, 'G': 5863, 'C': 5492}"
      ]
     },
     "execution_count": 24,
     "metadata": {},
     "output_type": "execute_result"
    }
   ],
   "source": [
    "nucleotides_frequency"
   ]
  },
  {
   "cell_type": "code",
   "execution_count": 93,
   "metadata": {},
   "outputs": [
    {
     "name": "stdout",
     "output_type": "stream",
     "text": [
      "A: 29.94%\n",
      "T: 32.08%\n",
      "G: 19.61%\n",
      "C: 18.37%\n"
     ]
    }
   ],
   "source": [
    "for nucleotide in nucleotides_frequency:\n",
    "    freq = nucleotides_frequency[nucleotide] / len(cov2genome)\n",
    "    print(\n",
    "        f'{nucleotide}: {freq:.2%}'\n",
    "    )"
   ]
  },
  {
   "cell_type": "code",
   "execution_count": 107,
   "metadata": {},
   "outputs": [],
   "source": [
    "window = 600\n",
    "nucleotides_window_frequency = []\n",
    "\n",
    "for i in range(0, len(cov2genome), window):\n",
    "    _nucleotides_frequency = {}\n",
    "    for nucleotide in cov2genome[i:i+window]:\n",
    "        _nucleotides_frequency[nucleotide] = _nucleotides_frequency.get(nucleotide, 0) + 1\n",
    "    nucleotides_window_frequency.append(_nucleotides_frequency)"
   ]
  },
  {
   "cell_type": "code",
   "execution_count": 108,
   "metadata": {},
   "outputs": [],
   "source": [
    "df_freq = pd.DataFrame(nucleotides_window_frequency) "
   ]
  },
  {
   "cell_type": "code",
   "execution_count": 109,
   "metadata": {},
   "outputs": [],
   "source": [
    "totals = df_freq.sum(axis=1)\n",
    "\n",
    "for nucleotide in nucleotides_vocabulary:\n",
    "    df_freq[nucleotide] = df_freq[nucleotide] / totals\n",
    "    \n",
    "df_freq.index = df_freq.index * window"
   ]
  },
  {
   "cell_type": "code",
   "execution_count": 110,
   "metadata": {},
   "outputs": [
    {
     "data": {
      "text/html": [
       "<div>\n",
       "<style scoped>\n",
       "    .dataframe tbody tr th:only-of-type {\n",
       "        vertical-align: middle;\n",
       "    }\n",
       "\n",
       "    .dataframe tbody tr th {\n",
       "        vertical-align: top;\n",
       "    }\n",
       "\n",
       "    .dataframe thead th {\n",
       "        text-align: right;\n",
       "    }\n",
       "</style>\n",
       "<table border=\"1\" class=\"dataframe\">\n",
       "  <thead>\n",
       "    <tr style=\"text-align: right;\">\n",
       "      <th></th>\n",
       "      <th>A</th>\n",
       "      <th>C</th>\n",
       "      <th>G</th>\n",
       "      <th>T</th>\n",
       "    </tr>\n",
       "  </thead>\n",
       "  <tbody>\n",
       "    <tr>\n",
       "      <th>0</th>\n",
       "      <td>0.238333</td>\n",
       "      <td>0.228333</td>\n",
       "      <td>0.245000</td>\n",
       "      <td>0.288333</td>\n",
       "    </tr>\n",
       "    <tr>\n",
       "      <th>600</th>\n",
       "      <td>0.296667</td>\n",
       "      <td>0.201667</td>\n",
       "      <td>0.228333</td>\n",
       "      <td>0.273333</td>\n",
       "    </tr>\n",
       "    <tr>\n",
       "      <th>1200</th>\n",
       "      <td>0.280000</td>\n",
       "      <td>0.180000</td>\n",
       "      <td>0.218333</td>\n",
       "      <td>0.321667</td>\n",
       "    </tr>\n",
       "    <tr>\n",
       "      <th>1800</th>\n",
       "      <td>0.290000</td>\n",
       "      <td>0.168333</td>\n",
       "      <td>0.218333</td>\n",
       "      <td>0.323333</td>\n",
       "    </tr>\n",
       "  </tbody>\n",
       "</table>\n",
       "</div>"
      ],
      "text/plain": [
       "             A         C         G         T\n",
       "0     0.238333  0.228333  0.245000  0.288333\n",
       "600   0.296667  0.201667  0.228333  0.273333\n",
       "1200  0.280000  0.180000  0.218333  0.321667\n",
       "1800  0.290000  0.168333  0.218333  0.323333"
      ]
     },
     "execution_count": 110,
     "metadata": {},
     "output_type": "execute_result"
    }
   ],
   "source": [
    "df_freq.head(4)"
   ]
  },
  {
   "cell_type": "markdown",
   "metadata": {},
   "source": [
    "Changes in frequency reflect different regions in the genome"
   ]
  },
  {
   "cell_type": "code",
   "execution_count": 111,
   "metadata": {},
   "outputs": [
    {
     "name": "stderr",
     "output_type": "stream",
     "text": [
      "/Users/tarek/anaconda3/envs/djs/lib/python3.6/site-packages/ipykernel_launcher.py:24: UserWarning: Matplotlib is currently using module://ipykernel.pylab.backend_inline, which is a non-GUI backend, so cannot show the figure.\n"
     ]
    },
    {
     "data": {
      "image/png": "[encoded data removed]",
      "text/plain": [
       "<Figure size 1152x360 with 1 Axes>"
      ]
     },
     "metadata": {
      "needs_background": "light"
     },
     "output_type": "display_data"
    }
   ],
   "source": [
    "fig, ax = plt.subplots(1, 1, figsize=(16, 5), sharey=False)\n",
    "\n",
    "cmap = ['r', 'g', 'b', 'y']\n",
    "\n",
    "for i, nucleotide in enumerate(nucleotides_vocabulary):\n",
    "    \n",
    "    df_freq[nucleotide].plot(\n",
    "        title=f'SARS-COV-2: Nucleotides Frequency withing {window}-wide windows',\n",
    "        kind='line',\n",
    "        label=f'{nucleotide}',\n",
    "        color=cmap[i],\n",
    "        ax=ax\n",
    "    )\n",
    "\n",
    "    ax.axhline(\n",
    "        y=nucleotides_frequency[nucleotide] / len(cov2genome),\n",
    "        color=cmap[i],\n",
    "        linestyle='--',\n",
    "        alpha=0.5,\n",
    "    )\n",
    "    \n",
    "ax.legend(ncol=4, fontsize='large', shadow=True)\n",
    "\n",
    "fig.show()"
   ]
  },
  {
   "cell_type": "markdown",
   "metadata": {},
   "source": [
    "## N-Gram "
   ]
  },
  {
   "cell_type": "code",
   "execution_count": 171,
   "metadata": {},
   "outputs": [],
   "source": [
    "n_gram_length = 2\n",
    "n_gram_freq = {}\n",
    "\n",
    "for i in range(0, len(cov2genome) - n_gram_length + 1):\n",
    "    n_gram = cov2genome[i:i+n_gram_length]\n",
    "    n_gram_freq[n_gram] = n_gram_freq.get(n_gram, 0) + 1\n",
    "    \n",
    "df_n_gram_freq = pd.DataFrame(\n",
    "    [n_gram_freq], index=['P(N1,N2)']\n",
    ").T\n",
    "\n",
    "df_n_gram_freq = df_n_gram_freq / df_n_gram_freq.sum()\n",
    "\n",
    "df_n_gram_freq['P(N1)*P(N2)'] = [\n",
    "    (nucleotides_frequency[n_gram[0]] / len(cov2genome)) * (nucleotides_frequency[n_gram[1]] / len(cov2genome))\n",
    "    for n_gram in df_n_gram_freq.index\n",
    "]\n",
    "\n",
    "df_n_gram_freq['P(N1,N2) / P(N1)*P(N2)'] = df_n_gram_freq['P(N1,N2)'] / df_n_gram_freq['P(N1)*P(N2)']"
   ]
  },
  {
   "cell_type": "code",
   "execution_count": 172,
   "metadata": {},
   "outputs": [
    {
     "data": {
      "text/html": [
       "<div>\n",
       "<style scoped>\n",
       "    .dataframe tbody tr th:only-of-type {\n",
       "        vertical-align: middle;\n",
       "    }\n",
       "\n",
       "    .dataframe tbody tr th {\n",
       "        vertical-align: top;\n",
       "    }\n",
       "\n",
       "    .dataframe thead th {\n",
       "        text-align: right;\n",
       "    }\n",
       "</style>\n",
       "<table border=\"1\" class=\"dataframe\">\n",
       "  <thead>\n",
       "    <tr style=\"text-align: right;\">\n",
       "      <th></th>\n",
       "      <th>P(N1,N2)</th>\n",
       "      <th>P(N1)*P(N2)</th>\n",
       "      <th>P(N1,N2) / P(N1)*P(N2)</th>\n",
       "    </tr>\n",
       "  </thead>\n",
       "  <tbody>\n",
       "    <tr>\n",
       "      <th>TG</th>\n",
       "      <td>0.086583</td>\n",
       "      <td>0.062906</td>\n",
       "      <td>1.376391</td>\n",
       "    </tr>\n",
       "    <tr>\n",
       "      <th>CA</th>\n",
       "      <td>0.069694</td>\n",
       "      <td>0.054994</td>\n",
       "      <td>1.267300</td>\n",
       "    </tr>\n",
       "    <tr>\n",
       "      <th>AC</th>\n",
       "      <td>0.067654</td>\n",
       "      <td>0.054994</td>\n",
       "      <td>1.230205</td>\n",
       "    </tr>\n",
       "    <tr>\n",
       "      <th>CT</th>\n",
       "      <td>0.069594</td>\n",
       "      <td>0.058925</td>\n",
       "      <td>1.181058</td>\n",
       "    </tr>\n",
       "    <tr>\n",
       "      <th>GC</th>\n",
       "      <td>0.039061</td>\n",
       "      <td>0.036010</td>\n",
       "      <td>1.084730</td>\n",
       "    </tr>\n",
       "    <tr>\n",
       "      <th>AA</th>\n",
       "      <td>0.096315</td>\n",
       "      <td>0.089661</td>\n",
       "      <td>1.074206</td>\n",
       "    </tr>\n",
       "    <tr>\n",
       "      <th>GT</th>\n",
       "      <td>0.066551</td>\n",
       "      <td>0.062906</td>\n",
       "      <td>1.057944</td>\n",
       "    </tr>\n",
       "    <tr>\n",
       "      <th>TT</th>\n",
       "      <td>0.107518</td>\n",
       "      <td>0.102937</td>\n",
       "      <td>1.044506</td>\n",
       "    </tr>\n",
       "    <tr>\n",
       "      <th>AG</th>\n",
       "      <td>0.058257</td>\n",
       "      <td>0.058709</td>\n",
       "      <td>0.992294</td>\n",
       "    </tr>\n",
       "    <tr>\n",
       "      <th>GG</th>\n",
       "      <td>0.036553</td>\n",
       "      <td>0.038442</td>\n",
       "      <td>0.950845</td>\n",
       "    </tr>\n",
       "    <tr>\n",
       "      <th>GA</th>\n",
       "      <td>0.053909</td>\n",
       "      <td>0.058709</td>\n",
       "      <td>0.918242</td>\n",
       "    </tr>\n",
       "    <tr>\n",
       "      <th>CC</th>\n",
       "      <td>0.029697</td>\n",
       "      <td>0.033731</td>\n",
       "      <td>0.880402</td>\n",
       "    </tr>\n",
       "    <tr>\n",
       "      <th>TA</th>\n",
       "      <td>0.079493</td>\n",
       "      <td>0.096070</td>\n",
       "      <td>0.827450</td>\n",
       "    </tr>\n",
       "    <tr>\n",
       "      <th>AT</th>\n",
       "      <td>0.077185</td>\n",
       "      <td>0.096070</td>\n",
       "      <td>0.803430</td>\n",
       "    </tr>\n",
       "    <tr>\n",
       "      <th>TC</th>\n",
       "      <td>0.047254</td>\n",
       "      <td>0.058925</td>\n",
       "      <td>0.801939</td>\n",
       "    </tr>\n",
       "  </tbody>\n",
       "</table>\n",
       "</div>"
      ],
      "text/plain": [
       "    P(N1,N2)  P(N1)*P(N2)  P(N1,N2) / P(N1)*P(N2)\n",
       "TG  0.086583     0.062906                1.376391\n",
       "CA  0.069694     0.054994                1.267300\n",
       "AC  0.067654     0.054994                1.230205\n",
       "CT  0.069594     0.058925                1.181058\n",
       "GC  0.039061     0.036010                1.084730\n",
       "AA  0.096315     0.089661                1.074206\n",
       "GT  0.066551     0.062906                1.057944\n",
       "TT  0.107518     0.102937                1.044506\n",
       "AG  0.058257     0.058709                0.992294\n",
       "GG  0.036553     0.038442                0.950845\n",
       "GA  0.053909     0.058709                0.918242\n",
       "CC  0.029697     0.033731                0.880402\n",
       "TA  0.079493     0.096070                0.827450\n",
       "AT  0.077185     0.096070                0.803430\n",
       "TC  0.047254     0.058925                0.801939"
      ]
     },
     "execution_count": 172,
     "metadata": {},
     "output_type": "execute_result"
    }
   ],
   "source": [
    "df_n_gram_freq.sort_values('P(N1,N2) / P(N1)*P(N2)', ascending=False).head(15)"
   ]
  },
  {
   "cell_type": "code",
   "execution_count": 166,
   "metadata": {},
   "outputs": [],
   "source": [
    "n_gram_length = 5\n",
    "n_gram_freq = {}\n",
    "\n",
    "for i in range(0, len(cov2genome) - n_gram_length + 1):\n",
    "    n_gram = cov2genome[i:i+n_gram_length]\n",
    "    n_gram_freq[n_gram] = n_gram_freq.get(n_gram, 0) + 1"
   ]
  },
  {
   "cell_type": "code",
   "execution_count": 167,
   "metadata": {},
   "outputs": [
    {
     "data": {
      "text/html": [
       "<div>\n",
       "<style scoped>\n",
       "    .dataframe tbody tr th:only-of-type {\n",
       "        vertical-align: middle;\n",
       "    }\n",
       "\n",
       "    .dataframe tbody tr th {\n",
       "        vertical-align: top;\n",
       "    }\n",
       "\n",
       "    .dataframe thead th {\n",
       "        text-align: right;\n",
       "    }\n",
       "</style>\n",
       "<table border=\"1\" class=\"dataframe\">\n",
       "  <thead>\n",
       "    <tr style=\"text-align: right;\">\n",
       "      <th></th>\n",
       "      <th># Occurences</th>\n",
       "    </tr>\n",
       "  </thead>\n",
       "  <tbody>\n",
       "    <tr>\n",
       "      <th>TTGTT</th>\n",
       "      <td>0.003411</td>\n",
       "    </tr>\n",
       "    <tr>\n",
       "      <th>TGTTA</th>\n",
       "      <td>0.003378</td>\n",
       "    </tr>\n",
       "    <tr>\n",
       "      <th>AACAA</th>\n",
       "      <td>0.003311</td>\n",
       "    </tr>\n",
       "    <tr>\n",
       "      <th>TGTTG</th>\n",
       "      <td>0.003244</td>\n",
       "    </tr>\n",
       "    <tr>\n",
       "      <th>TTCTT</th>\n",
       "      <td>0.003244</td>\n",
       "    </tr>\n",
       "    <tr>\n",
       "      <th>TTTTG</th>\n",
       "      <td>0.003244</td>\n",
       "    </tr>\n",
       "    <tr>\n",
       "      <th>TTACA</th>\n",
       "      <td>0.003211</td>\n",
       "    </tr>\n",
       "    <tr>\n",
       "      <th>TTAAA</th>\n",
       "      <td>0.003177</td>\n",
       "    </tr>\n",
       "  </tbody>\n",
       "</table>\n",
       "</div>"
      ],
      "text/plain": [
       "       # Occurences\n",
       "TTGTT      0.003411\n",
       "TGTTA      0.003378\n",
       "AACAA      0.003311\n",
       "TGTTG      0.003244\n",
       "TTCTT      0.003244\n",
       "TTTTG      0.003244\n",
       "TTACA      0.003211\n",
       "TTAAA      0.003177"
      ]
     },
     "execution_count": 167,
     "metadata": {},
     "output_type": "execute_result"
    }
   ],
   "source": [
    "df_n_gram_freq = pd.DataFrame(\n",
    "    [n_gram_freq], index=['# Occurences']\n",
    ").T\n",
    "\n",
    "df_n_gram_freq = df_n_gram_freq / df_n_gram_freq.sum()\n",
    "\n",
    "df_n_gram_freq.sort_values('# Occurences', ascending=False).head(8)"
   ]
  },
  {
   "cell_type": "code",
   "execution_count": null,
   "metadata": {},
   "outputs": [],
   "source": []
  }
 ],
 "metadata": {
  "kernelspec": {
   "display_name": "Python 3",
   "language": "python",
   "name": "python3"
  },
  "language_info": {
   "codemirror_mode": {
    "name": "ipython",
    "version": 3
   },
   "file_extension": ".py",
   "mimetype": "text/x-python",
   "name": "python",
   "nbconvert_exporter": "python",
   "pygments_lexer": "ipython3",
   "version": "3.6.9"
  }
 },
 "nbformat": 4,
 "nbformat_minor": 4
}
